{
 "cells": [
  {
   "cell_type": "markdown",
   "metadata": {},
   "source": [
    "# Homework 6a: PDE\n",
    "Physics 177, Spring 2018  \n",
    "**Due:** Thursday, May 10\n",
    "\n",
    "*Jeremy Quijano*"
   ]
  },
  {
   "cell_type": "markdown",
   "metadata": {},
   "source": [
    "## Problem 1: Poisson Equation\n",
    "\n",
    "The Poisson equation in two dimension is:\n",
    "\n",
    "$$\\displaystyle \\partial_x^2 \\phi(x,y) + \\partial_y^2 \\phi(x,y) = -\\rho(x,y)$$\n",
    "\n",
    "We have picked units where $\\varepsilon_0 = 1$ and $\\rho$ is the charge density. Numerically solve the Poisson equation following two dimensional system (Newman Example 9.2):\n",
    "\n",
    "<img src=\"HW6a_NewmanFig9.4.png\">\n",
    "\n",
    "This is a 2D with size 100 cm by 100 cm. There are smaller 20 cm by 20 cm squares. The one on the upper right has charge density $\\rho = +1/\\text{cm}^2$ and the one on the lower left has charge density $\\rho = -1/\\text{cm}^2$. The boundaries of the large square are set to zero potential. \n",
    "\n",
    "Solve for the potential, $\\phi$, everywhere in the large square. Plot the potential. I leave it to you to pick a discretization (step size) that is sufficiently fast while also demonstrating the correct behavior. \n",
    "\n",
    "Hint: before you do anything, you should guess what the expected result should be."
   ]
  },
  {
   "cell_type": "code",
   "execution_count": 3,
   "metadata": {},
   "outputs": [],
   "source": [
    "import numpy as np\n",
    "\n",
    "# Constants\n",
    "grid = 20   # grid points per side of small square\n",
    "M = 5*grid  # grid squares per side (units of grid)\n",
    "\n",
    "V = 1.0        # boundary potential from the charge\n",
    "target = 1e-2  # target accuracy\n",
    "\n",
    "\n",
    "def InSouthWestBox(i,j):\n",
    "    \"\"\"true if point is in the Southwest box\"\"\"\n",
    "    if i>=20 \\\n",
    "    and i<=40 \\\n",
    "    and j>=20 \\\n",
    "    and j<=40:\n",
    "        return True\n",
    "\n",
    "def InNorthEastBox(i,j):\n",
    "    \"\"\"true if point is in the Northwest box\"\"\"\n",
    "    if i>=60 \\\n",
    "    and i<=80 \\\n",
    "    and j>=60 \\\n",
    "    and j<=80:\n",
    "        return True\n",
    "    \n",
    "def AmIFixed(i,j):\n",
    "    \"\"\"true if this block shouldn't be updated\"\"\"\n",
    "    # BIG BOUNDARY\n",
    "    if i==0 \\\n",
    "    or i==M \\\n",
    "    or j==0 \\\n",
    "    or j==M:\n",
    "        return True\n",
    "    else:\n",
    "        return False\n",
    "    \n",
    "# Fill initial array with zeros\n",
    "phi = np.zeros([M+1,M+1],float)\n",
    "\n",
    "# Fill initial array with charged sub-boxes\n",
    "for i in range(M+1):\n",
    "    for j in range(M+1):\n",
    "        if InSouthWestBox(i,j):\n",
    "            phi[i,j] = -V\n",
    "        elif InNorthEastBox(i,j):\n",
    "            phi[i,j] = V\n",
    "\n",
    "# initialize \"work in progess\" array\n",
    "phiprime = np.zeros([M+1, M+1],float) # container for new values\n",
    "\n",
    "# Main Loop\n",
    "delta = 1.0\n",
    "while delta > target:\n",
    "    # calculate new values of the potential\n",
    "\n",
    "    for i in range(M+1):\n",
    "        for j in range(M+1):\n",
    "\n",
    "            # if boundary\n",
    "            if InSouthWestBox(i,j):\n",
    "                phiprime[i,j] = -V\n",
    "            elif InNorthEastBox(i,j):\n",
    "                phiprime[i,j] = V\n",
    "            else:\n",
    "                phiprime[i,j] = 0\n",
    "            \n",
    "    \n",
    "    # NOTE: indentation is very important!\n",
    "    # convergence check\n",
    "    delta = np.max(np.abs(phi-phiprime))\n",
    "            \n",
    "    # swap arrays\n",
    "    phi, phiprime = phiprime, phi"
   ]
  },
  {
   "cell_type": "code",
   "execution_count": 4,
   "metadata": {},
   "outputs": [
    {
     "data": {
      "image/png": "[encoded data removed]",
      "text/plain": [
       "<matplotlib.figure.Figure at 0x10459f128>"
      ]
     },
     "metadata": {},
     "output_type": "display_data"
    }
   ],
   "source": [
    "%matplotlib inline\n",
    "import matplotlib.pyplot as plt\n",
    "\n",
    "# You should stop to understand what's going on here.\n",
    "\n",
    "xx, yy = np.meshgrid(np.arange(M+1),np.arange(M+1))\n",
    "plt.pcolormesh(xx,yy,phi)\n",
    "plt.colorbar()\n",
    "plt.show()"
   ]
  },
  {
   "cell_type": "markdown",
   "metadata": {},
   "source": [
    "## Problem 2: 4D spheres\n",
    "\n",
    "Using Monte Carlo, estimate the volume enclosed by a 4D sphere. You can get a reasonable value by sampling 100,000 points."
   ]
  },
  {
   "cell_type": "code",
   "execution_count": 43,
   "metadata": {},
   "outputs": [
    {
     "name": "stdout",
     "output_type": "stream",
     "text": [
      "4.92256\n"
     ]
    }
   ],
   "source": [
    "import random\n",
    "\n",
    "dim = 4\n",
    "r = \n",
    "n = 100000\n",
    "n_hit = 0\n",
    "\n",
    "for i in range(n):\n",
    "    x = random.uniform(-r,r)\n",
    "    y = random.uniform(-r,r)\n",
    "    z = random.uniform(-r,r)\n",
    "    ZZTop = random.uniform(-r,r)\n",
    "    \n",
    "    if (x**2 + y**2 + z**2 + ZZTop**2) < r**2:\n",
    "        n_hit += 1\n",
    "        \n",
    "    i += 1\n",
    "\n",
    "volume = (2**dim * n_hit * r**dim) / n\n",
    "\n",
    "print (volume)"
   ]
  },
  {
   "cell_type": "markdown",
   "metadata": {},
   "source": [
    "## X. Extra Credit, compare to the correct value\n",
    "\n",
    "Look up the volume of a 4-dimensional sphere (it's written with respect to the Euler $\\Gamma$ function). Using `scipy.special.gamma`, confirm that the value you found in **Problem 2** is reasonable. "
   ]
  },
  {
   "cell_type": "code",
   "execution_count": 45,
   "metadata": {},
   "outputs": [
    {
     "name": "stdout",
     "output_type": "stream",
     "text": [
      "4.934802200544679\n"
     ]
    }
   ],
   "source": [
    "from scipy.special import gamma\n",
    "from math import pi\n",
    "\n",
    "r = 1\n",
    "dim = 4\n",
    "\n",
    "volume = pi**(dim/2) / (gamma(dim/2 + 1)) * r**dim\n",
    "\n",
    "print(volume)"
   ]
  },
  {
   "cell_type": "code",
   "execution_count": null,
   "metadata": {},
   "outputs": [],
   "source": []
  }
 ],
 "metadata": {
  "kernelspec": {
   "display_name": "Python 3",
   "language": "python",
   "name": "python3"
  },
  "language_info": {
   "codemirror_mode": {
    "name": "ipython",
    "version": 3
   },
   "file_extension": ".py",
   "mimetype": "text/x-python",
   "name": "python",
   "nbconvert_exporter": "python",
   "pygments_lexer": "ipython3",
   "version": "3.6.4"
  }
 },
 "nbformat": 4,
 "nbformat_minor": 2
}
