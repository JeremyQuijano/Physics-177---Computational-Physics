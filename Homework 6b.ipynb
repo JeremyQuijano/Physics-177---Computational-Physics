{
 "cells": [
  {
   "cell_type": "markdown",
   "metadata": {},
   "source": [
    "# Homework 6b: The Forward-Time Centered-Space\n",
    "### (Whatever the heck that means. Could be a sequel to *Crouching Tiger*.)\n",
    "Physics 177, Spring 2018  \n",
    "**Due:** Tuesday, May 15\n",
    "\n",
    "*Jeremy Quijano*"
   ]
  },
  {
   "cell_type": "markdown",
   "metadata": {},
   "source": [
    "**This week:** just one problem. It shouldn't end up being more than 100 lines of code, but we're putting together a lot of different ideas. Use the gitter to bounce ideas off of each other. This one is tricky!\n",
    "\n",
    "## Discussion\n",
    "\n",
    "Over the past few weeks, we've played with integrating ordinary differential equations with initial data and partial differential equations with boundary conditions. This problem combines the two techniques into the *forward-time centered-space* method for solving a partial differential equation with initial and boundary data.\n",
    "\n",
    "This sort of thing shows up when we have an equation with partial derivatives space *and* time. In my opinion, *most* of the insightful equations in physics are of this form: they tell you how each piece of your system evolves ($\\partial/\\partial t$) as a function of the neighboring pieces of the system ($\\partial/\\partial x$).\n",
    "\n",
    "A good example of this is the **diffusion equation**,\n",
    "$$\n",
    "\\frac{\\partial \\phi}{\\partial t} = D \\frac{\\partial^2 \\phi}{\\partial x^2} \\ .\n",
    "$$\n",
    "\n",
    "In this problem (based on Newman Ex. 9.3) we consider the scenario of a steel container (1 cm thick) that is initially 20$^\\circ$ C. At $t=0$ it is then placed in a bath of cold water (0$^\\circ$ C) and simultaneously filled with hot water (50$^\\circ$ C). Assuming that the container is sufficiently wide that we can ignore edge effects, what is the temperature  $T(x,t)$ across the 1 cm of steel as a function of distance $x$ from the cold side and of time $t$?\n",
    "\n",
    "\n",
    "<img src=\"HW6b_Newman9.3.png\">\n",
    "\n",
    "\n",
    "## Computational strategy\n",
    "\n",
    "Let $a$ be the grid spacing. Recalling the form of the second partial derivative, we can write the diffiusion equation for $T(x,t)$---a *partial* differential equation---as a system of *ordinary* differential equations in time for each grid point $x_i$:\n",
    "\n",
    "$$\n",
    "\\frac{dT(x_i, t)}{dt}\n",
    "= \n",
    "\\frac{D}{a^2}\n",
    "\\left[\n",
    "T(x_i+a, t)\n",
    "- 2 T(x_i,t)\n",
    "+ T(x_i-a,t)\n",
    "\\right] \\ .\n",
    "$$\n",
    "\n",
    "We can then solve this using **Euler's method**. Note that there is no symmetry requiring you to use the same grid spacing in space as you do for time. (This is not the case for relativistic problems where space and time are the same thing.)"
   ]
  },
  {
   "cell_type": "markdown",
   "metadata": {},
   "source": [
    "## Problem 1. Feeling the Heat\n",
    "\n",
    "Solve the diffusion equation for the \"steel pot in cold water with hot water inside\" problem using the forward-time centered-space method. \n",
    "\n",
    "### The numbers\n",
    "Here are the constants and boundary/initial conditions you'll need:\n",
    "\n",
    "**Boundary conditions**: the hot side is 50$^\\circ$ C, the cold side is 0$^\\circ$ C.\n",
    "\n",
    "**Initial conditions**: the rest of the steel starts at 20$^\\circ$ C at $t=0$. \n",
    "\n",
    "**Constant**: the *thermal diffusivity*, $D$, is 4.25 $\\times$ 10$^{{-6}}$m$^2$s$^{-1}$\n",
    "\n",
    "The thickness of the steel is 1 cm. \n",
    "\n",
    "Use `Nt = 1e5` (100,000) samples in time and `N = 100` grid samples in space. Thus your grid spacing, `a`, 0.01 m/100 and your time step, `dt`, is 10 sec / 100,000. \n",
    "\n",
    "\n",
    "### Output\n",
    "\n",
    "Your goals: plot the temperature profile $T(x,t)$ across the steel for specific times: 0.01 sec, 0.1 sec, 0.4 sec, 1 sec, and 10 sec.\n",
    "\n",
    "### Implementation\n",
    "\n",
    "You can do this problem however you like, but I suggest that you use `numpy` and review how [slicing](https://stackoverflow.com/questions/4455076/) works. I solved it by creating a two-dimensional array (matrix) $T(x,t)$ that contains the temperatures for each position $x$ and time $t$. Then I used slices (e.g. `T[:,0]`) to assign initial and boundary conditions. \n",
    "\n",
    "I had a 'bucket' one-dimensional array `S` that I used to store the $T(x_i,t_{j+1})$ data as a function of the $T(x_i, t_j)$ data, then had an update step that looked like `T[:,ti] = S`."
   ]
  },
  {
   "cell_type": "code",
   "execution_count": 8,
   "metadata": {},
   "outputs": [
    {
     "data": {
      "image/png": "[encoded data removed]",
      "text/plain": [
       "<matplotlib.figure.Figure at 0x11c8c96d8>"
      ]
     },
     "metadata": {},
     "output_type": "display_data"
    }
   ],
   "source": [
    "%matplotlib inline\n",
    "import numpy as np\n",
    "from pylab import plot, xlabel, ylabel, show\n",
    "\n",
    "# Constants\n",
    "L = 0.01     # Thickness of the steel in m\n",
    "D = 4.25e-6  # Thermal diffusivity\n",
    "N = 100      # Number of grid points\n",
    "a = L/N      # Grid spacing\n",
    "h = 1e-4     # Time-step\n",
    "epsilon = h/1000\n",
    "\n",
    "Tcold = 0.0\n",
    "Tinit = 20.0\n",
    "Thot  = 50.0\n",
    "\n",
    "t1 = 0.01\n",
    "t2 = 0.1\n",
    "t3 = 0.4\n",
    "t4 = 1.0\n",
    "t5 = 10.0\n",
    "tend = t5 + epsilon\n",
    "\n",
    "t0 = 0\n",
    "tf = 10\n",
    "Nt = 1e5\n",
    "dt = (tf-t0)/Nt\n",
    "\n",
    "# Create Arrays\n",
    "T = np.empty(N+1,float)\n",
    "T[0] = Thot\n",
    "T[N] = Tcold\n",
    "T[1:N] = Tinit\n",
    "\n",
    "Tp = np.empty(N+1,float)\n",
    "Tp[0] = Thot\n",
    "Tp[N] = Tcold\n",
    "\n",
    "# Main Loop\n",
    "t = 0.0\n",
    "c = h*D/(a*a)\n",
    "\n",
    "while t < tend:\n",
    "    for i in range(1,N):\n",
    "        Tp[i] = T[i] + c*(T[i+1]+T[i-1]-2*T[i])\n",
    "    T,Tp = Tp,T\n",
    "    t += h\n",
    "    \n",
    "    if abs(t-t1) < epsilon:\n",
    "        plot(T)\n",
    "    if abs(t-t2) < epsilon:\n",
    "        plot(T)\n",
    "    if abs(t-t3) < epsilon:\n",
    "        plot(T)\n",
    "    if abs(t-t4) < epsilon:\n",
    "        plot(T)\n",
    "    if abs(t-t5) < epsilon:\n",
    "        plot(T)\n",
    "        \n",
    "xlabel(\"x\")\n",
    "ylabel(\"y\")\n",
    "show()"
   ]
  },
  {
   "cell_type": "markdown",
   "metadata": {},
   "source": [
    "## Extra Credit\n",
    "\n",
    "* Why did we use Euler's method? Runge-Kutta would have been almost as simple to code, but there's a reason why a more sophisticated algorithm like RK2 wouldn't make sense.\n",
    "\n",
    "* In a separate cell, produce a \"publication-worthy\" plot. The axes should be labeled (with units) and have the correct range of values, there should be a title and a legend.\n",
    "\n",
    "* In a separate cell, *animate* the plot. Plot a single temperature profile as a function of $x$ that evolves in time."
   ]
  }
 ],
 "metadata": {
  "kernelspec": {
   "display_name": "Python 3",
   "language": "python",
   "name": "python3"
  },
  "language_info": {
   "codemirror_mode": {
    "name": "ipython",
    "version": 3
   },
   "file_extension": ".py",
   "mimetype": "text/x-python",
   "name": "python",
   "nbconvert_exporter": "python",
   "pygments_lexer": "ipython3",
   "version": "3.6.4"
  }
 },
 "nbformat": 4,
 "nbformat_minor": 2
}
